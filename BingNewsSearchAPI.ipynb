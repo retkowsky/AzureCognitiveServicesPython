{
 "cells": [
  {
   "cell_type": "markdown",
   "metadata": {},
   "source": [
    "<img src=\"https://raw.githubusercontent.com/retkowsky/images/master/logo%20azure%20cog%20svcs.jpg\">"
   ]
  },
  {
   "cell_type": "markdown",
   "metadata": {},
   "source": [
    "Documentation : https://azure.microsoft.com/en-us/services/cognitive-services/"
   ]
  },
  {
   "cell_type": "code",
   "execution_count": 21,
   "metadata": {},
   "outputs": [
    {
     "data": {
      "text/plain": [
       "'3.6.9 |Anaconda, Inc.| (default, Jul 30 2019, 19:07:31) \\n[GCC 7.3.0]'"
      ]
     },
     "execution_count": 21,
     "metadata": {},
     "output_type": "execute_result"
    }
   ],
   "source": [
    "import sys\n",
    "sys.version"
   ]
  },
  {
   "cell_type": "code",
   "execution_count": 22,
   "metadata": {},
   "outputs": [
    {
     "name": "stdout",
     "output_type": "stream",
     "text": [
      "2020-07-07 13:48:20.554130\n"
     ]
    }
   ],
   "source": [
    "import datetime\n",
    "now = datetime.datetime.now()\n",
    "print(now)"
   ]
  },
  {
   "cell_type": "markdown",
   "metadata": {},
   "source": [
    "# Bing News Search API"
   ]
  },
  {
   "cell_type": "code",
   "execution_count": 23,
   "metadata": {},
   "outputs": [],
   "source": [
    "subscription_key = 'AREMPLACER'\n",
    "assert subscription_key"
   ]
  },
  {
   "cell_type": "markdown",
   "metadata": {},
   "source": [
    "Next, verify that the `search_url` endpoint is correct. At this writing, only one endpoint is used for Bing search APIs. If you encounter authorization errors, double-check this value against the Bing search endpoint in your Azure dashboard."
   ]
  },
  {
   "cell_type": "code",
   "execution_count": 24,
   "metadata": {},
   "outputs": [],
   "source": [
    "search_url = \"https://api.cognitive.microsoft.com/bing/v7.0/news/search\""
   ]
  },
  {
   "cell_type": "markdown",
   "metadata": {},
   "source": [
    "Set `search_term` to look for news articles about Microsoft."
   ]
  },
  {
   "cell_type": "code",
   "execution_count": 25,
   "metadata": {},
   "outputs": [],
   "source": [
    "search_term = \"Covid-19\""
   ]
  },
  {
   "cell_type": "markdown",
   "metadata": {},
   "source": [
    "The following block uses the `requests` library in Python to call out to the Bing search APIs and return the results as a JSON object. Observe that we pass in the API key via the `headers` dictionary and the search term via the `params` dictionary. To see the full list of options that can be used to filter search results, refer to the [REST API](https://docs.microsoft.com/en-us/rest/api/cognitiveservices/bing-news-api-v7-reference) documentation."
   ]
  },
  {
   "cell_type": "code",
   "execution_count": 26,
   "metadata": {},
   "outputs": [],
   "source": [
    "import requests\n",
    "\n",
    "headers = {\"Ocp-Apim-Subscription-Key\" : subscription_key}\n",
    "params  = {\"q\": search_term, \"textDecorations\": True, \"textFormat\": \"HTML\"}\n",
    "response = requests.get(search_url, headers=headers, params=params)\n",
    "response.raise_for_status()\n",
    "search_results = response.json()"
   ]
  },
  {
   "cell_type": "markdown",
   "metadata": {},
   "source": [
    "The `search_results` object contains the relevant new articles along with rich metadata. For example, the following line of code extracts the descriptions of the articles."
   ]
  },
  {
   "cell_type": "code",
   "execution_count": 27,
   "metadata": {},
   "outputs": [],
   "source": [
    "descriptions = [article[\"description\"] for article in search_results[\"value\"]]"
   ]
  },
  {
   "cell_type": "markdown",
   "metadata": {},
   "source": [
    "These descriptions can then be rendered as a table with the search keyword highlighted in **bold**."
   ]
  },
  {
   "cell_type": "code",
   "execution_count": 28,
   "metadata": {},
   "outputs": [
    {
     "data": {
      "text/html": [
       "<table><tr><td>De ontwikkeling van Final Fantasy 7 Remake Part 2 loopt vertraging op door de COVID-19 pandemie die wereld momenteel in zijn greep houdt. Dat zeggen co-regisseur Naoki Hamaguchi en producer Yoshinori</td></tr>\n",
       "<tr><td>Minister Van Rijn van Medische Zorg heeft de handreiking: ‘Behandeling en begeleiding van post-Covid-19-patiënten’ in ontvangst genomen. In deze handreiking staan aanbevelingen voor zorgverleners hoe</td></tr>\n",
       "<tr><td>“Uit onderzoek is gebleken dat jong volwassenen en kinderen onder de achttien jaar, weinig bijdragen aan de verspreiding van het COVID-19 virus. Om die reden is het begrijpelijk dat de overheid in Sur</td></tr>\n",
       "<tr><td>Volgens de nieuwszender CNN Brasil heeft Bolsonaro 38 graden koorts en ook andere symptomen van de ziekte. De president zou al zijn geplande activiteiten voor de rest van de week hebben geannuleerd. B</td></tr>\n",
       "<tr><td>Het Europese herstelplan voor de economie, Next Generation EU, is goed voor 750 miljard euro. Tien procent daarvan kan besteed worden om het Europese wegtransport te helpen goed uit de coronacrisis te</td></tr>\n",
       "<tr><td>Ouderen die herstellen na <b>COVID-19</b> krijgen het komende half jaar extra ondersteuning op afstand, dankzij een nieuw onderzoeksproject van de Hogeschool van Amsterdam (HvA), GRZPLUS en HipperTherapeutics. Het herstel van de ouderen wordt intensief gevolgd ...</td></tr>\n",
       "<tr><td>In Suriname is het ontslagbeleid voor COVID-19-patiënten ingaande vandaag aangepast. COVID-19 patiënten die met milde klachten zijn opgenomen in een ziekenhuis, mogen eerder naar huis. “Personen die g</td></tr>\n",
       "<tr><td>De FIOD heeft vandaag in Amsterdam een 47-jarige vrouw aangehouden die verdacht wordt van oplichting en witwassen van crimineel verkregen geld. Vermoedelijk is zij betrokken bij de oplichting van een</td></tr>\n",
       "<tr><td>Assembleevoorzitter Ronnie Brunswijk is maandag ontslagen uit het ziekenhuis. Op 1 juli werd bekend dat de voorzitter van De Nationale Assemblee (DNA) besmet was geraakt met het COVID-19-virus. De DNA</td></tr></table>"
      ],
      "text/plain": [
       "<IPython.core.display.HTML object>"
      ]
     },
     "execution_count": 28,
     "metadata": {},
     "output_type": "execute_result"
    }
   ],
   "source": [
    "from IPython.display import HTML\n",
    "rows = \"\\n\".join([\"<tr><td>{0}</td></tr>\".format(desc) for desc in descriptions])\n",
    "HTML(\"<table>\"+rows+\"</table>\")"
   ]
  }
 ],
 "metadata": {
  "kernelspec": {
   "display_name": "Python 3",
   "language": "python",
   "name": "python3"
  },
  "language_info": {
   "codemirror_mode": {
    "name": "ipython",
    "version": 3
   },
   "file_extension": ".py",
   "mimetype": "text/x-python",
   "name": "python",
   "nbconvert_exporter": "python",
   "pygments_lexer": "ipython3",
   "version": "3.6.9"
  },
  "ms_docs_meta": {
   "author": "jerrykindall",
   "description": "Get information and code samples to help you quickly get started using the Bing News Search API in Microsoft Cognitive Services on Azure.",
   "documentationcenter": "''",
   "ms.author": "v-jerkin",
   "ms.date": "9/21/2017",
   "ms.service": "cognitive-services",
   "ms.technology": "bing-search",
   "ms.topic": "article",
   "services": "cognitive-services",
   "title": "Python Quickstart for Azure Cognitive Services, Bing News Search API | Microsoft Docs"
  }
 },
 "nbformat": 4,
 "nbformat_minor": 2
}
