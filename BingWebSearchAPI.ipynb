{
 "cells": [
  {
   "cell_type": "markdown",
   "metadata": {},
   "source": [
    "<img src=\"https://raw.githubusercontent.com/retkowsky/images/master/logo%20azure%20cog%20svcs.jpg\">"
   ]
  },
  {
   "cell_type": "markdown",
   "metadata": {},
   "source": [
    "Documentation : https://azure.microsoft.com/en-us/services/cognitive-services/"
   ]
  },
  {
   "cell_type": "code",
   "execution_count": 14,
   "metadata": {},
   "outputs": [
    {
     "data": {
      "text/plain": [
       "'3.6.9 |Anaconda, Inc.| (default, Jul 30 2019, 19:07:31) \\n[GCC 7.3.0]'"
      ]
     },
     "execution_count": 14,
     "metadata": {},
     "output_type": "execute_result"
    }
   ],
   "source": [
    "import sys\n",
    "sys.version"
   ]
  },
  {
   "cell_type": "code",
   "execution_count": 15,
   "metadata": {},
   "outputs": [
    {
     "name": "stdout",
     "output_type": "stream",
     "text": [
      "2020-07-07 13:49:39.264507\n"
     ]
    }
   ],
   "source": [
    "import datetime\n",
    "now = datetime.datetime.now()\n",
    "print(now)"
   ]
  },
  {
   "cell_type": "markdown",
   "metadata": {},
   "source": [
    "# Bing Web Search API"
   ]
  },
  {
   "cell_type": "markdown",
   "metadata": {},
   "source": [
    "Set `subscription_key` to your API key for the Bing API service."
   ]
  },
  {
   "cell_type": "code",
   "execution_count": 16,
   "metadata": {},
   "outputs": [],
   "source": [
    "subscription_key = 'AREMPLACER'\n",
    "assert subscription_key"
   ]
  },
  {
   "cell_type": "markdown",
   "metadata": {},
   "source": [
    "Next, verify that the `search_url` endpoint is correct. At this writing, only one endpoint is used for Bing search APIs. If you encounter authorization errors, double-check this value against the Bing search endpoint in your Azure dashboard."
   ]
  },
  {
   "cell_type": "code",
   "execution_count": 17,
   "metadata": {},
   "outputs": [],
   "source": [
    "search_url = \"https://api.cognitive.microsoft.com/bing/v7.0/search\""
   ]
  },
  {
   "cell_type": "markdown",
   "metadata": {},
   "source": [
    "Set `search_term` to query Bing for Microsoft Cognitive Services."
   ]
  },
  {
   "cell_type": "code",
   "execution_count": 18,
   "metadata": {},
   "outputs": [],
   "source": [
    "search_term = \"Covid-19\""
   ]
  },
  {
   "cell_type": "markdown",
   "metadata": {},
   "source": [
    "The following block uses the `requests` library in Python to call out to the Bing search APIs and return the results as a JSON object. Observe that we pass in the API key via the `headers` dictionary and the search term via the `params` dictionary. To see the full list of options that can be used to filter search results, refer to the [REST API](https://docs.microsoft.com/en-us/rest/api/cognitiveservices/bing-web-api-v7-reference) documentation."
   ]
  },
  {
   "cell_type": "code",
   "execution_count": 19,
   "metadata": {},
   "outputs": [],
   "source": [
    "import requests\n",
    "\n",
    "headers = {\"Ocp-Apim-Subscription-Key\" : subscription_key}\n",
    "params  = {\"q\": search_term, \"textDecorations\":True, \"textFormat\":\"HTML\"}\n",
    "response = requests.get(search_url, headers=headers, params=params)\n",
    "response.raise_for_status()\n",
    "search_results = response.json()"
   ]
  },
  {
   "cell_type": "markdown",
   "metadata": {},
   "source": [
    "The `search_results` object contains the search results along with rich metadata such as related queries and pages. The following lines of code format the top pages returned by the query."
   ]
  },
  {
   "cell_type": "code",
   "execution_count": 20,
   "metadata": {},
   "outputs": [
    {
     "data": {
      "text/html": [
       "<table><tr>\n",
       "                       <td><a href=\"https://www.rivm.nl/coronavirus-covid-19\">COVID-19 (nieuwe coronavirus) | RIVM</a></td>\n",
       "                       <td>Het nieuwe coronavirus veroorzaakt de ziekte <b>COVID-19</b>. De klachten lijken in het begin vaak op een verkoudheid. De ziekte kan een ernstige longontsteking veroorzaken, waar soms ook mensen aan overlijden.</td>\n",
       "                     </tr>\n",
       "<tr>\n",
       "                       <td><a href=\"https://www.rijksoverheid.nl/onderwerpen/coronavirus-covid-19/testen\">Testen op corona | Coronavirus COVID-19 | Rijksoverheid.nl</a></td>\n",
       "                       <td>Vanaf 1 juni kan iedereen met klachten zich laten testen op het coronavirus. Zo controleren we de verspreiding van het virus en beschermen we elkaar. Op deze pagina’s leest u informatie en veelgestelde vragen over het testen.</td>\n",
       "                     </tr>\n",
       "<tr>\n",
       "                       <td><a href=\"https://www.rivm.nl/coronavirus-covid-19/kinderen\">Kinderen en COVID-19 | RIVM</a></td>\n",
       "                       <td>Wereldwijd zijn er relatief weinig kinderen gemeld met <b>COVID-19</b>, de ziekte die wordt veroorzaakt door het nieuwe coronavirus. Ook in Nederland spelen kinderen een kleine rol in de verspreiding van het nieuwe coronavirus. De meeste verspreiding vindt plaats onder volwassenen en van volwassen familieleden naar kinderen. Verspreiding van <b>COVID-19</b> onder kinderen of van kinderen naar volwassenen ...</td>\n",
       "                     </tr>\n",
       "<tr>\n",
       "                       <td><a href=\"https://nl.wikipedia.org/wiki/COVID-19\">COVID-19 - Wikipedia</a></td>\n",
       "                       <td><b>COVID-19</b>, voluit coronavirus disease 2019, is een besmettelijke ziekte die wordt veroorzaakt door het virus SARS-CoV-2, een van de coronavirussen.De voorheen onbekende ziekte werd eind 2019 voor het eerst opgemerkt in Wuhan, hoofdstad van de Chinese provincie Hubei, en verspreidde zich vervolgens in drie maanden naar andere delen van de wereld.Vanaf 11 maart 2020 was er volgens de normen van ...</td>\n",
       "                     </tr>\n",
       "<tr>\n",
       "                       <td><a href=\"https://www.rijksoverheid.nl/onderwerpen/coronavirus-covid-19\">Coronavirus COVID-19 | Rijksoverheid.nl</a></td>\n",
       "                       <td>Actuele informatie over het coronavirus <b>COVID-19</b>. Zoals de maatregelen om het coronavirus onder controle te houden.</td>\n",
       "                     </tr>\n",
       "<tr>\n",
       "                       <td><a href=\"https://lci.rivm.nl/COVID-19-bco\">Protocol bron- en contactonderzoek COVID-19 | LCI richtlijnen</a></td>\n",
       "                       <td>Bijlage bij de LCI-richtlijn <b>COVID-19</b> | Versie 23 juni 2020 (versiebeheer zie onderaan pagina) | Zie ook Verpleegkundig stappenplan <b>COVID-19</b>. Inleiding en uitgangspunten. Bron- en contactonderzoek is een essentieel onderdeel van de bestrijding van de huidige <b>COVID-19</b>-epidemie.</td>\n",
       "                     </tr>\n",
       "<tr>\n",
       "                       <td><a href=\"https://www.eerstekamer.nl/wetsvoorstel/35434_tijdelijke_wet_covid_19\">Eerste Kamer der Staten-Generaal - Tijdelijke wet COVID-19 ...</a></td>\n",
       "                       <td>Dit wetsvoorstel past een groot aantal wetten aan om de continuïteit van het wetgevingsproces, de rechtspraak en het openbaar bestuur tijdens, de beperkende maatregelen als gevolg van, de uitbraak van <b>covid-19</b> te garanderen.</td>\n",
       "                     </tr>\n",
       "<tr>\n",
       "                       <td><a href=\"https://www.demedischspecialist.nl/nieuws/covid-19\">COVID-19 | Federatie Medisch Specialisten</a></td>\n",
       "                       <td>Via deze pagina verwijzen wij u naar informatie over <b>COVID-19</b>.</td>\n",
       "                     </tr>\n",
       "<tr>\n",
       "                       <td><a href=\"https://www.ntvg.nl/covid-19\">Covid-19 | Nederlands Tijdschrift voor Geneeskunde</a></td>\n",
       "                       <td>Het aantal artikelen over <b>covid-19</b> groeit snel. Dit dossier geeft een overzicht. Het bevat alle NTvG-publicaties over <b>covid-19</b> en het nieuwe coronavirus, van de eerste melding tot de nieuwste inzichten in de behandeling en de aanpak van de pandemie.</td>\n",
       "                     </tr>\n",
       "<tr>\n",
       "                       <td><a href=\"https://www.gov.uk/guidance/coronavirus-covid-19-information-for-the-public\">Number of coronavirus (COVID-19) cases in the UK - GOV.UK</a></td>\n",
       "                       <td>The latest number of coronavirus (<b>COVID-19</b>) cases in the UK. Breakdown of testing by testing strategy ‘pillars’ Pillar 1: swab testing in Public Health England (PHE) labs and NHS hospitals for ...</td>\n",
       "                     </tr></table>"
      ],
      "text/plain": [
       "<IPython.core.display.HTML object>"
      ]
     },
     "execution_count": 20,
     "metadata": {},
     "output_type": "execute_result"
    }
   ],
   "source": [
    "from IPython.display import HTML\n",
    "\n",
    "rows = \"\\n\".join([\"\"\"<tr>\n",
    "                       <td><a href=\\\"{0}\\\">{1}</a></td>\n",
    "                       <td>{2}</td>\n",
    "                     </tr>\"\"\".format(v[\"url\"],v[\"name\"],v[\"snippet\"]) \\\n",
    "                  for v in search_results[\"webPages\"][\"value\"]])\n",
    "HTML(\"<table>{0}</table>\".format(rows))"
   ]
  }
 ],
 "metadata": {
  "kernelspec": {
   "display_name": "Python 3",
   "language": "python",
   "name": "python3"
  },
  "language_info": {
   "codemirror_mode": {
    "name": "ipython",
    "version": 3
   },
   "file_extension": ".py",
   "mimetype": "text/x-python",
   "name": "python",
   "nbconvert_exporter": "python",
   "pygments_lexer": "ipython3",
   "version": "3.6.9"
  },
  "ms_docs_meta": {
   "author": "jerrykindall",
   "description": "Get information and code samples to help you quickly get started using the Bing Web Search API in Microsoft Cognitive Services on Azure.",
   "documentationcenter": "''",
   "ms.author": "v-jerkin",
   "ms.date": "9/18/2017",
   "ms.service": "cognitive-services",
   "ms.technology": "bing-search",
   "ms.topic": "article",
   "services": "cognitive-services",
   "title": "Call and response - Python Quickstart for Azure Cognitive Services, Bing Web Search API | Microsoft Docs"
  }
 },
 "nbformat": 4,
 "nbformat_minor": 2
}
