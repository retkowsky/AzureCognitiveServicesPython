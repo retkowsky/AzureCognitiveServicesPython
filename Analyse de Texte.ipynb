{
 "cells": [
  {
   "cell_type": "markdown",
   "metadata": {},
   "source": [
    "<img src=\"https://github.com/retkowsky/images/blob/master/logo%20azure%20cog%20svcs.jpg?raw=true\">"
   ]
  },
  {
   "cell_type": "markdown",
   "metadata": {},
   "source": [
    "Documentation : https://azure.microsoft.com/en-us/services/cognitive-services/"
   ]
  },
  {
   "cell_type": "markdown",
   "metadata": {},
   "source": [
    "# Analyse de Texte avec Azure Text Analytics"
   ]
  },
  {
   "cell_type": "markdown",
   "metadata": {},
   "source": [
    "Documentation : https://docs.microsoft.com/en-us/azure/cognitive-services/text-analytics/"
   ]
  },
  {
   "cell_type": "code",
   "execution_count": 17,
   "metadata": {},
   "outputs": [
    {
     "data": {
      "text/plain": [
       "'3.6.9 |Anaconda, Inc.| (default, Jul 30 2019, 19:07:31) \\n[GCC 7.3.0]'"
      ]
     },
     "execution_count": 17,
     "metadata": {},
     "output_type": "execute_result"
    }
   ],
   "source": [
    "import sys\n",
    "sys.version"
   ]
  },
  {
   "cell_type": "code",
   "execution_count": 19,
   "metadata": {},
   "outputs": [
    {
     "name": "stdout",
     "output_type": "stream",
     "text": [
      "2020-07-07 13:44:57.415307\n"
     ]
    }
   ],
   "source": [
    "import datetime\n",
    "now = datetime.datetime.now()\n",
    "print(now)"
   ]
  },
  {
   "cell_type": "markdown",
   "metadata": {},
   "source": [
    "## 1) Language\n",
    "\n",
    "https://docs.microsoft.com/en-us/azure/cognitive-services/text-analytics/how-tos/text-analytics-how-to-language-detection"
   ]
  },
  {
   "cell_type": "code",
   "execution_count": 1,
   "metadata": {},
   "outputs": [],
   "source": [
    "subscription_key = \"AREMPLACER\"\n",
    "assert subscription_key"
   ]
  },
  {
   "cell_type": "code",
   "execution_count": 2,
   "metadata": {},
   "outputs": [],
   "source": [
    "text_analytics_base_url = \"https://francecentral.api.cognitive.microsoft.com/text/analytics/v2.0\""
   ]
  },
  {
   "cell_type": "code",
   "execution_count": 3,
   "metadata": {},
   "outputs": [
    {
     "name": "stdout",
     "output_type": "stream",
     "text": [
      "https://francecentral.api.cognitive.microsoft.com/text/analytics/v2.0/languages\n"
     ]
    }
   ],
   "source": [
    "language_api_url = text_analytics_base_url + \"/languages\"\n",
    "print(language_api_url)"
   ]
  },
  {
   "cell_type": "code",
   "execution_count": 4,
   "metadata": {},
   "outputs": [],
   "source": [
    "documents = { 'documents': [\n",
    "    { 'id': '1', 'text': 'This is a document written in English.' },\n",
    "    { 'id': '2', 'text': 'Este es un document escrito en Español.' },\n",
    "    { 'id': '3', 'text': '这是一个用中文写的文件' },\n",
    "    { 'id': '4', 'text': 'Ceci est une présentation du service cognitif Azure Text Analytics.' },\n",
    "    ]}"
   ]
  },
  {
   "cell_type": "code",
   "execution_count": 5,
   "metadata": {},
   "outputs": [
    {
     "name": "stdout",
     "output_type": "stream",
     "text": [
      "{'documents': [{'detectedLanguages': [{'iso6391Name': 'en',\n",
      "                                       'name': 'English',\n",
      "                                       'score': 1.0}],\n",
      "                'id': '1'},\n",
      "               {'detectedLanguages': [{'iso6391Name': 'es',\n",
      "                                       'name': 'Spanish',\n",
      "                                       'score': 1.0}],\n",
      "                'id': '2'},\n",
      "               {'detectedLanguages': [{'iso6391Name': 'zh_chs',\n",
      "                                       'name': 'Chinese_Simplified',\n",
      "                                       'score': 1.0}],\n",
      "                'id': '3'},\n",
      "               {'detectedLanguages': [{'iso6391Name': 'fr',\n",
      "                                       'name': 'French',\n",
      "                                       'score': 1.0}],\n",
      "                'id': '4'}],\n",
      " 'errors': []}\n"
     ]
    }
   ],
   "source": [
    "import requests\n",
    "from pprint import pprint\n",
    "headers   = {\"Ocp-Apim-Subscription-Key\": subscription_key}\n",
    "response  = requests.post(language_api_url, headers=headers, json=documents)\n",
    "languages = response.json()\n",
    "pprint(languages)"
   ]
  },
  {
   "cell_type": "code",
   "execution_count": 6,
   "metadata": {},
   "outputs": [
    {
     "data": {
      "text/html": [
       "<table><tr><th>Text</th><th>Detected languages(scores)</th></tr><tr><td>This is a document written in English.</td><td>English(1.0)</td>\n",
       "<tr><td>Este es un document escrito en Español.</td><td>Spanish(1.0)</td>\n",
       "<tr><td>这是一个用中文写的文件</td><td>Chinese_Simplified(1.0)</td>\n",
       "<tr><td>Ceci est une présentation du service cognitif Azure Text Analytics.</td><td>French(1.0)</td></table>"
      ],
      "text/plain": [
       "<IPython.core.display.HTML object>"
      ]
     },
     "execution_count": 6,
     "metadata": {},
     "output_type": "execute_result"
    }
   ],
   "source": [
    "from IPython.display import HTML\n",
    "table = []\n",
    "for document in languages[\"documents\"]:\n",
    "    text  = next(filter(lambda d: d[\"id\"] == document[\"id\"], documents[\"documents\"]))[\"text\"]\n",
    "    langs = \", \".join([\"{0}({1})\".format(lang[\"name\"], lang[\"score\"]) for lang in document[\"detectedLanguages\"]])\n",
    "    table.append(\"<tr><td>{0}</td><td>{1}</td>\".format(text, langs))\n",
    "HTML(\"<table><tr><th>Text</th><th>Detected languages(scores)</th></tr>{0}</table>\".format(\"\\n\".join(table)))"
   ]
  },
  {
   "cell_type": "markdown",
   "metadata": {},
   "source": [
    "## 2) Sentiment\n",
    "\n",
    "Text Analytics uses a machine learning classification algorithm to generate a sentiment score between 0 and 1. **Scores closer to 1 indicate positive sentiment, while scores closer to 0 indicate negative sentiment.** The model is pretrained with an extensive body of text with sentiment associations. Currently, it is not possible to provide your own training data. The model uses a combination of techniques during text analysis, including text processing, part-of-speech analysis, word placement, and word associations. For more information about the algorithm, see Introducing Text Analytics.\n",
    "\n",
    "Sentiment analysis is performed on the entire document, as opposed to extracting sentiment for a particular entity in the text. In practice, there is a tendency for scoring accuracy to improve when documents contain one or two sentences rather than a large block of text. During an objectivity assessment phase, the model determines whether a document as a whole is objective or contains sentiment. A document that is mostly objective does not progress to the sentiment detection phrase, resulting in a .50 score, with no further processing. For documents continuing in the pipeline, the next phase generates a score above or below .50, depending on the degree of sentiment detected in the document.\n",
    "\n",
    "> https://docs.microsoft.com/en-us/azure/cognitive-services/text-analytics/how-tos/text-analytics-how-to-sentiment-analysis"
   ]
  },
  {
   "cell_type": "code",
   "execution_count": 7,
   "metadata": {},
   "outputs": [
    {
     "name": "stdout",
     "output_type": "stream",
     "text": [
      "https://francecentral.api.cognitive.microsoft.com/text/analytics/v2.0/sentiment\n"
     ]
    }
   ],
   "source": [
    "sentiment_api_url = text_analytics_base_url + \"/sentiment\"\n",
    "print(sentiment_api_url)"
   ]
  },
  {
   "cell_type": "code",
   "execution_count": 8,
   "metadata": {},
   "outputs": [],
   "source": [
    "documents = {'documents' : [\n",
    "  {'id': '1', 'language': 'en', 'text': 'I had a wonderful experience! The rooms were wonderful and the staff was helpful.'},\n",
    "  {'id': '2', 'language': 'fr', 'text': \"Je suis très content de mon voyage en Australie. Je reviendrai.\"},\n",
    "  {'id': '3', 'language': 'fr', 'text': \"Le restaurant n'était vraiment pas bon et trop cher en plus.\"} ,\n",
    "  {'id': '4', 'language': 'fr', 'text': \"Le vol était très agréable. Le restaurant par contre n'est pas bon. L'accueil est très bien. La piscine est bien aussi.\"} \n",
    "]}"
   ]
  },
  {
   "cell_type": "code",
   "execution_count": 9,
   "metadata": {},
   "outputs": [
    {
     "name": "stdout",
     "output_type": "stream",
     "text": [
      "{'documents': [{'id': '1', 'score': 0.9708490371704102},\n",
      "               {'id': '2', 'score': 0.7375986576080322},\n",
      "               {'id': '3', 'score': 0.0},\n",
      "               {'id': '4', 'score': 0.6172450184822083}],\n",
      " 'errors': []}\n"
     ]
    }
   ],
   "source": [
    "headers   = {\"Ocp-Apim-Subscription-Key\": subscription_key}\n",
    "response  = requests.post(sentiment_api_url, headers=headers, json=documents)\n",
    "sentiments = response.json()\n",
    "pprint(sentiments)"
   ]
  },
  {
   "cell_type": "markdown",
   "metadata": {},
   "source": [
    "> Scores closer to 1 indicate positive sentiment, while scores closer to 0 indicate negative sentiment. "
   ]
  },
  {
   "cell_type": "markdown",
   "metadata": {},
   "source": [
    "## 3) Phrases Clefs\n",
    "**The Key Phrase Extraction API** evaluates unstructured text, and for each JSON document, returns a list of **key phrases.**\n",
    "\n",
    "This capability is useful if you need to quickly identify the main points in a collection of documents. For example, given input text \"The food was delicious and there were wonderful staff\", the service returns the main talking points: \"food\" and \"wonderful staff\".\n",
    "\n",
    "Currently, Key Phrase Extraction supports English, German, Spanish, and Japanese. Other languages are in preview. For more information, see Supported languages.\n",
    "\n",
    "> https://docs.microsoft.com/en-us/azure/cognitive-services/text-analytics/how-tos/text-analytics-how-to-keyword-extraction"
   ]
  },
  {
   "cell_type": "code",
   "execution_count": 10,
   "metadata": {},
   "outputs": [
    {
     "name": "stdout",
     "output_type": "stream",
     "text": [
      "https://francecentral.api.cognitive.microsoft.com/text/analytics/v2.0/keyPhrases\n"
     ]
    }
   ],
   "source": [
    "key_phrase_api_url = text_analytics_base_url + \"/keyPhrases\"\n",
    "print(key_phrase_api_url)"
   ]
  },
  {
   "cell_type": "code",
   "execution_count": 11,
   "metadata": {},
   "outputs": [
    {
     "name": "stdout",
     "output_type": "stream",
     "text": [
      "{'documents': [{'id': '1',\n",
      "                'keyPhrases': ['wonderful experience', 'staff', 'rooms']},\n",
      "               {'id': '2',\n",
      "                'keyPhrases': ['food', 'terrible time', 'hotel', 'staff']},\n",
      "               {'id': '3', 'keyPhrases': ['vue', 'restaurant']},\n",
      "               {'id': '4',\n",
      "                'keyPhrases': ['présentation des services cognitifs']}],\n",
      " 'errors': []}\n"
     ]
    }
   ],
   "source": [
    "documents = {'documents' : [\n",
    "  {'id': '1', 'language': 'en', 'text': 'I had a wonderful experience! The rooms were wonderful and the staff was helpful.'},\n",
    "  {'id': '2', 'language': 'en', 'text': 'I had a terrible time at the hotel. The staff was rude and the food was awful.'},  \n",
    "  {'id': '3', 'language': 'fr', 'text': \"Le restaurant n'était vraiment pas bon et la vue pas terrible.\"},\n",
    "  {'id': '4', 'language': 'fr', 'text': \"Ceci est une présentation des services cognitifs Azure\"},  \n",
    "]}\n",
    "headers   = {'Ocp-Apim-Subscription-Key': subscription_key}\n",
    "response  = requests.post(key_phrase_api_url, headers=headers, json=documents)\n",
    "key_phrases = response.json()\n",
    "pprint(key_phrases)"
   ]
  },
  {
   "cell_type": "code",
   "execution_count": 12,
   "metadata": {},
   "outputs": [
    {
     "data": {
      "text/html": [
       "<table><tr><th>Text</th><th>Key phrases</th></tr><tr><td>I had a wonderful experience! The rooms were wonderful and the staff was helpful.</td><td>wonderful experience,staff,rooms</td>\n",
       "<tr><td>I had a terrible time at the hotel. The staff was rude and the food was awful.</td><td>food,terrible time,hotel,staff</td>\n",
       "<tr><td>Le restaurant n'était vraiment pas bon et la vue pas terrible.</td><td>vue,restaurant</td>\n",
       "<tr><td>Ceci est une présentation des services cognitifs Azure</td><td>présentation des services cognitifs</td></table>"
      ],
      "text/plain": [
       "<IPython.core.display.HTML object>"
      ]
     },
     "execution_count": 12,
     "metadata": {},
     "output_type": "execute_result"
    }
   ],
   "source": [
    "from IPython.display import HTML\n",
    "table = []\n",
    "for document in key_phrases[\"documents\"]:\n",
    "    text    = next(filter(lambda d: d[\"id\"] == document[\"id\"], documents[\"documents\"]))[\"text\"]    \n",
    "    phrases = \",\".join(document[\"keyPhrases\"])\n",
    "    table.append(\"<tr><td>{0}</td><td>{1}</td>\".format(text, phrases))\n",
    "HTML(\"<table><tr><th>Text</th><th>Key phrases</th></tr>{0}</table>\".format(\"\\n\".join(table)))"
   ]
  },
  {
   "cell_type": "markdown",
   "metadata": {},
   "source": [
    "## 4) Entités\n",
    "The Entity Recognition API takes unstructured text, and for each JSON document, returns a list of **disambiguated entities** with links to more information on the web (Wikipedia and Bing).\n",
    "\n",
    "> https://docs.microsoft.com/en-us/azure/cognitive-services/text-analytics/how-tos/text-analytics-how-to-entity-linking"
   ]
  },
  {
   "cell_type": "code",
   "execution_count": 13,
   "metadata": {},
   "outputs": [
    {
     "name": "stdout",
     "output_type": "stream",
     "text": [
      "https://francecentral.api.cognitive.microsoft.com/text/analytics/v2.0/entities\n"
     ]
    }
   ],
   "source": [
    "entity_linking_api_url = text_analytics_base_url + \"/entities\"\n",
    "print(entity_linking_api_url)"
   ]
  },
  {
   "cell_type": "code",
   "execution_count": 14,
   "metadata": {},
   "outputs": [],
   "source": [
    "documents = {'documents' : [\n",
    "  {'id': '1', 'text': \"Sanofi S.A. is a French multinational pharmaceutical company headquartered in Paris, France, as of 2013 the world's fifth-largest by prescription sales. The company was formed as Sanofi-Aventis in 2004 by the merger of Aventis and Sanofi-Synthélabo, which were each the product of several previous mergers. It changed its name to Sanofi in May 2011. \"},\n",
    "]}"
   ]
  },
  {
   "cell_type": "code",
   "execution_count": 15,
   "metadata": {},
   "outputs": [],
   "source": [
    "headers   = {\"Ocp-Apim-Subscription-Key\": subscription_key}\n",
    "response  = requests.post(entity_linking_api_url, headers=headers, json=documents)\n",
    "entities = response.json()"
   ]
  },
  {
   "cell_type": "code",
   "execution_count": 16,
   "metadata": {},
   "outputs": [
    {
     "name": "stdout",
     "output_type": "stream",
     "text": [
      "{'documents': [{'id': '1', 'entities': [{'name': 'Sanofi', 'matches': [{'text': 'Sanofi-Synthélabo', 'offset': 231, 'length': 17}, {'text': 'Sanofi-Aventis', 'offset': 179, 'length': 14}, {'text': 'Sanofi S.A.', 'offset': 0, 'length': 11}, {'text': 'Aventis', 'offset': 219, 'length': 7}, {'text': 'Sanofi', 'offset': 330, 'length': 6}], 'wikipediaLanguage': 'en', 'wikipediaId': 'Sanofi', 'wikipediaUrl': 'https://en.wikipedia.org/wiki/Sanofi', 'bingId': 'ccd3351d-4cff-7f63-692e-4fa8d57b2ac2'}, {'name': 'Paris', 'matches': [{'text': 'Paris, France', 'offset': 78, 'length': 13}], 'wikipediaLanguage': 'en', 'wikipediaId': 'Paris', 'wikipediaUrl': 'https://en.wikipedia.org/wiki/Paris', 'bingId': '85584d24-2116-5b98-89f9-5714db931ac6'}, {'name': 'France', 'matches': [{'text': 'French', 'offset': 17, 'length': 6}], 'wikipediaLanguage': 'en', 'wikipediaId': 'France', 'wikipediaUrl': 'https://en.wikipedia.org/wiki/France', 'bingId': 'c7bfe2de-4f82-e23c-ae42-8544b5b5c0ea'}]}], 'errors': []}\n"
     ]
    }
   ],
   "source": [
    "print(entities)"
   ]
  },
  {
   "cell_type": "code",
   "execution_count": null,
   "metadata": {},
   "outputs": [],
   "source": []
  }
 ],
 "metadata": {
  "kernelspec": {
   "display_name": "Python 3.6 - AzureML",
   "language": "python",
   "name": "python3-azureml"
  },
  "language_info": {
   "codemirror_mode": {
    "name": "ipython",
    "version": 3
   },
   "file_extension": ".py",
   "mimetype": "text/x-python",
   "name": "python",
   "nbconvert_exporter": "python",
   "pygments_lexer": "ipython3",
   "version": "3.6.9"
  }
 },
 "nbformat": 4,
 "nbformat_minor": 2
}
